{
  "cells": [
    {
      "cell_type": "code",
      "execution_count": null,
      "metadata": {
        "id": "NDECqLkMY5XT"
      },
      "outputs": [],
      "source": [
        "# !pip install colabcode\n",
        "!pip install transformers\n",
        "!pip install datasets\n",
        "!pip install sentencepiece"
      ]
    },
    {
      "cell_type": "code",
      "execution_count": 71,
      "metadata": {
        "colab": {
          "base_uri": "https://localhost:8080/"
        },
        "id": "YfDHaHVlZCkn",
        "outputId": "bf601fb8-f162-43ee-90c1-f3c936498e9f"
      },
      "outputs": [
        {
          "output_type": "stream",
          "name": "stdout",
          "text": [
            "Drive already mounted at /content/gdrive; to attempt to forcibly remount, call drive.mount(\"/content/gdrive\", force_remount=True).\n"
          ]
        }
      ],
      "source": [
        "from google.colab import drive\n",
        "drive.mount('/content/gdrive')"
      ]
    },
    {
      "cell_type": "code",
      "execution_count": 72,
      "metadata": {
        "colab": {
          "base_uri": "https://localhost:8080/"
        },
        "id": "OGh7LXHBZEfS",
        "outputId": "50863ef7-35f7-4f75-8673-2bd644341841"
      },
      "outputs": [
        {
          "output_type": "stream",
          "name": "stdout",
          "text": [
            "/content/gdrive/.shortcut-targets-by-id/1JmC3NTW-8x-WltHc8wA1MMqO9U-zBCBs/Kaggle Competition/US_Patent\n"
          ]
        }
      ],
      "source": [
        "%cd /content/gdrive/MyDrive/Kaggle\\ Competition/US_Patent"
      ]
    },
    {
      "cell_type": "code",
      "execution_count": 73,
      "metadata": {
        "id": "2VduRAK-ZGWW",
        "colab": {
          "base_uri": "https://localhost:8080/"
        },
        "outputId": "cac6db60-92af-438a-d020-6f1f0611c8ff"
      },
      "outputs": [
        {
          "output_type": "stream",
          "name": "stdout",
          "text": [
            "Fri May 27 05:27:06 2022       \n",
            "+-----------------------------------------------------------------------------+\n",
            "| NVIDIA-SMI 460.32.03    Driver Version: 460.32.03    CUDA Version: 11.2     |\n",
            "|-------------------------------+----------------------+----------------------+\n",
            "| GPU  Name        Persistence-M| Bus-Id        Disp.A | Volatile Uncorr. ECC |\n",
            "| Fan  Temp  Perf  Pwr:Usage/Cap|         Memory-Usage | GPU-Util  Compute M. |\n",
            "|                               |                      |               MIG M. |\n",
            "|===============================+======================+======================|\n",
            "|   0  Tesla P100-PCIE...  Off  | 00000000:00:04.0 Off |                    0 |\n",
            "| N/A   38C    P0    27W / 250W |      2MiB / 16280MiB |      0%      Default |\n",
            "|                               |                      |                  N/A |\n",
            "+-------------------------------+----------------------+----------------------+\n",
            "                                                                               \n",
            "+-----------------------------------------------------------------------------+\n",
            "| Processes:                                                                  |\n",
            "|  GPU   GI   CI        PID   Type   Process name                  GPU Memory |\n",
            "|        ID   ID                                                   Usage      |\n",
            "|=============================================================================|\n",
            "|  No running processes found                                                 |\n",
            "+-----------------------------------------------------------------------------+\n"
          ]
        }
      ],
      "source": [
        "!nvidia-smi"
      ]
    },
    {
      "cell_type": "code",
      "execution_count": 74,
      "metadata": {
        "id": "s5tbPKfCZJRX"
      },
      "outputs": [],
      "source": [
        "import numpy as np\n",
        "import pandas as pd\n",
        "import torch\n",
        "import torch.nn as nn\n",
        "import sentencepiece\n",
        "from datasets import load_metric\n",
        "from sklearn.model_selection import train_test_split\n",
        "from sklearn.metrics import classification_report\n",
        "from transformers import AutoModel, AutoTokenizer, AutoModelForSequenceClassification\n",
        "from transformers import TrainingArguments, Trainer, AdamW\n",
        "from transformers import BertTokenizerFast, BertTokenizer, BertForSequenceClassification\n",
        "from transformers import DebertaV2ForSequenceClassification, DebertaV2Tokenizer\n",
        "from torch.nn import BCEWithLogitsLoss, BCELoss\n",
        "from torch.utils.data import DataLoader\n",
        "import matplotlib.pyplot as plt\n",
        "from tqdm import tqdm"
      ]
    },
    {
      "cell_type": "code",
      "execution_count": 75,
      "metadata": {
        "colab": {
          "base_uri": "https://localhost:8080/"
        },
        "id": "hggCsXxXZKxf",
        "outputId": "8d7898bc-11dd-4d86-ab2c-0fb916a1f85d"
      },
      "outputs": [
        {
          "output_type": "stream",
          "name": "stdout",
          "text": [
            "cuda\n"
          ]
        }
      ],
      "source": [
        "# specify GPU\n",
        "device = torch.device('cuda' if torch.cuda.is_available() else 'cpu')\n",
        "print(device)"
      ]
    },
    {
      "cell_type": "code",
      "execution_count": 95,
      "metadata": {
        "id": "GEWy9-bWZMFO"
      },
      "outputs": [],
      "source": [
        "class CFG:\n",
        "  train_path = 'data/stage2_data/train_df.csv'\n",
        "  val_path = 'data/stage2_data/val_df.csv'\n",
        "  test_path = 'data/stage2_data/test_df.csv'\n",
        "  real_test_path = 'data/processed/test.csv'\n",
        "  #model_path = 'distilbert-base-cased'\n",
        "  model_path = 'microsoft/deberta-v3-large'\n",
        "\n",
        "  learning_rate = 3e-5\n",
        "  weight_decay = 0.01\n",
        "  num_fold = 5\n",
        "  epochs = 8\n",
        "  batch_size = 16"
      ]
    },
    {
      "cell_type": "code",
      "execution_count": 77,
      "metadata": {
        "id": "9pZZ5a_7ZM5Z",
        "colab": {
          "base_uri": "https://localhost:8080/",
          "height": 722
        },
        "outputId": "22cd4c02-bff7-43d7-846f-2086ca13fe3b"
      },
      "outputs": [
        {
          "output_type": "execute_result",
          "data": {
            "text/plain": [
              "   Unnamed: 0                id     anchor                  target context  \\\n",
              "0           0  37d61fd2272659b1  abatement  abatement of pollution     A47   \n",
              "1           1  7b9652b17b68b7a4  abatement          act of abating     A47   \n",
              "2           2  36d72442aefd8232  abatement         active catalyst     A47   \n",
              "3           3  5296b0c19e1ce60e  abatement     eliminating process     A47   \n",
              "4           4  54c1e3b9184cb5b6  abatement           forest region     A47   \n",
              "\n",
              "   score       context_text  \\\n",
              "0   0.50  Human Necessities   \n",
              "1   0.75  Human Necessities   \n",
              "2   0.25  Human Necessities   \n",
              "3   0.50  Human Necessities   \n",
              "4   0.00  Human Necessities   \n",
              "\n",
              "                                              concat  \\\n",
              "0  abatement # abatement of pollution # Human Nec...   \n",
              "1     abatement # act of abating # Human Necessities   \n",
              "2    abatement # active catalyst # Human Necessities   \n",
              "3  abatement # eliminating process # Human Necess...   \n",
              "4      abatement # forest region # Human Necessities   \n",
              "\n",
              "                                          concat_vec code  \\\n",
              "0  [101, 19557, 18532, 4765, 1001, 19557, 18532, ...  A47   \n",
              "1  [101, 19557, 18532, 4765, 1001, 2552, 1997, 19...  A47   \n",
              "2  [101, 19557, 18532, 4765, 1001, 3161, 16771, 1...  A47   \n",
              "3  [101, 19557, 18532, 4765, 1001, 15349, 2832, 1...  A47   \n",
              "4  [101, 19557, 18532, 4765, 1001, 3224, 2555, 10...  A47   \n",
              "\n",
              "                                               title section  class  subclass  \\\n",
              "0  FURNITURE; DOMESTIC ARTICLES OR APPLIANCES; CO...       A   47.0       NaN   \n",
              "1  FURNITURE; DOMESTIC ARTICLES OR APPLIANCES; CO...       A   47.0       NaN   \n",
              "2  FURNITURE; DOMESTIC ARTICLES OR APPLIANCES; CO...       A   47.0       NaN   \n",
              "3  FURNITURE; DOMESTIC ARTICLES OR APPLIANCES; CO...       A   47.0       NaN   \n",
              "4  FURNITURE; DOMESTIC ARTICLES OR APPLIANCES; CO...       A   47.0       NaN   \n",
              "\n",
              "   group  main_group  \n",
              "0    NaN         NaN  \n",
              "1    NaN         NaN  \n",
              "2    NaN         NaN  \n",
              "3    NaN         NaN  \n",
              "4    NaN         NaN  "
            ],
            "text/html": [
              "\n",
              "  <div id=\"df-dce30391-2a11-4954-8ee5-952ab89167bc\">\n",
              "    <div class=\"colab-df-container\">\n",
              "      <div>\n",
              "<style scoped>\n",
              "    .dataframe tbody tr th:only-of-type {\n",
              "        vertical-align: middle;\n",
              "    }\n",
              "\n",
              "    .dataframe tbody tr th {\n",
              "        vertical-align: top;\n",
              "    }\n",
              "\n",
              "    .dataframe thead th {\n",
              "        text-align: right;\n",
              "    }\n",
              "</style>\n",
              "<table border=\"1\" class=\"dataframe\">\n",
              "  <thead>\n",
              "    <tr style=\"text-align: right;\">\n",
              "      <th></th>\n",
              "      <th>Unnamed: 0</th>\n",
              "      <th>id</th>\n",
              "      <th>anchor</th>\n",
              "      <th>target</th>\n",
              "      <th>context</th>\n",
              "      <th>score</th>\n",
              "      <th>context_text</th>\n",
              "      <th>concat</th>\n",
              "      <th>concat_vec</th>\n",
              "      <th>code</th>\n",
              "      <th>title</th>\n",
              "      <th>section</th>\n",
              "      <th>class</th>\n",
              "      <th>subclass</th>\n",
              "      <th>group</th>\n",
              "      <th>main_group</th>\n",
              "    </tr>\n",
              "  </thead>\n",
              "  <tbody>\n",
              "    <tr>\n",
              "      <th>0</th>\n",
              "      <td>0</td>\n",
              "      <td>37d61fd2272659b1</td>\n",
              "      <td>abatement</td>\n",
              "      <td>abatement of pollution</td>\n",
              "      <td>A47</td>\n",
              "      <td>0.50</td>\n",
              "      <td>Human Necessities</td>\n",
              "      <td>abatement # abatement of pollution # Human Nec...</td>\n",
              "      <td>[101, 19557, 18532, 4765, 1001, 19557, 18532, ...</td>\n",
              "      <td>A47</td>\n",
              "      <td>FURNITURE; DOMESTIC ARTICLES OR APPLIANCES; CO...</td>\n",
              "      <td>A</td>\n",
              "      <td>47.0</td>\n",
              "      <td>NaN</td>\n",
              "      <td>NaN</td>\n",
              "      <td>NaN</td>\n",
              "    </tr>\n",
              "    <tr>\n",
              "      <th>1</th>\n",
              "      <td>1</td>\n",
              "      <td>7b9652b17b68b7a4</td>\n",
              "      <td>abatement</td>\n",
              "      <td>act of abating</td>\n",
              "      <td>A47</td>\n",
              "      <td>0.75</td>\n",
              "      <td>Human Necessities</td>\n",
              "      <td>abatement # act of abating # Human Necessities</td>\n",
              "      <td>[101, 19557, 18532, 4765, 1001, 2552, 1997, 19...</td>\n",
              "      <td>A47</td>\n",
              "      <td>FURNITURE; DOMESTIC ARTICLES OR APPLIANCES; CO...</td>\n",
              "      <td>A</td>\n",
              "      <td>47.0</td>\n",
              "      <td>NaN</td>\n",
              "      <td>NaN</td>\n",
              "      <td>NaN</td>\n",
              "    </tr>\n",
              "    <tr>\n",
              "      <th>2</th>\n",
              "      <td>2</td>\n",
              "      <td>36d72442aefd8232</td>\n",
              "      <td>abatement</td>\n",
              "      <td>active catalyst</td>\n",
              "      <td>A47</td>\n",
              "      <td>0.25</td>\n",
              "      <td>Human Necessities</td>\n",
              "      <td>abatement # active catalyst # Human Necessities</td>\n",
              "      <td>[101, 19557, 18532, 4765, 1001, 3161, 16771, 1...</td>\n",
              "      <td>A47</td>\n",
              "      <td>FURNITURE; DOMESTIC ARTICLES OR APPLIANCES; CO...</td>\n",
              "      <td>A</td>\n",
              "      <td>47.0</td>\n",
              "      <td>NaN</td>\n",
              "      <td>NaN</td>\n",
              "      <td>NaN</td>\n",
              "    </tr>\n",
              "    <tr>\n",
              "      <th>3</th>\n",
              "      <td>3</td>\n",
              "      <td>5296b0c19e1ce60e</td>\n",
              "      <td>abatement</td>\n",
              "      <td>eliminating process</td>\n",
              "      <td>A47</td>\n",
              "      <td>0.50</td>\n",
              "      <td>Human Necessities</td>\n",
              "      <td>abatement # eliminating process # Human Necess...</td>\n",
              "      <td>[101, 19557, 18532, 4765, 1001, 15349, 2832, 1...</td>\n",
              "      <td>A47</td>\n",
              "      <td>FURNITURE; DOMESTIC ARTICLES OR APPLIANCES; CO...</td>\n",
              "      <td>A</td>\n",
              "      <td>47.0</td>\n",
              "      <td>NaN</td>\n",
              "      <td>NaN</td>\n",
              "      <td>NaN</td>\n",
              "    </tr>\n",
              "    <tr>\n",
              "      <th>4</th>\n",
              "      <td>4</td>\n",
              "      <td>54c1e3b9184cb5b6</td>\n",
              "      <td>abatement</td>\n",
              "      <td>forest region</td>\n",
              "      <td>A47</td>\n",
              "      <td>0.00</td>\n",
              "      <td>Human Necessities</td>\n",
              "      <td>abatement # forest region # Human Necessities</td>\n",
              "      <td>[101, 19557, 18532, 4765, 1001, 3224, 2555, 10...</td>\n",
              "      <td>A47</td>\n",
              "      <td>FURNITURE; DOMESTIC ARTICLES OR APPLIANCES; CO...</td>\n",
              "      <td>A</td>\n",
              "      <td>47.0</td>\n",
              "      <td>NaN</td>\n",
              "      <td>NaN</td>\n",
              "      <td>NaN</td>\n",
              "    </tr>\n",
              "  </tbody>\n",
              "</table>\n",
              "</div>\n",
              "      <button class=\"colab-df-convert\" onclick=\"convertToInteractive('df-dce30391-2a11-4954-8ee5-952ab89167bc')\"\n",
              "              title=\"Convert this dataframe to an interactive table.\"\n",
              "              style=\"display:none;\">\n",
              "        \n",
              "  <svg xmlns=\"http://www.w3.org/2000/svg\" height=\"24px\"viewBox=\"0 0 24 24\"\n",
              "       width=\"24px\">\n",
              "    <path d=\"M0 0h24v24H0V0z\" fill=\"none\"/>\n",
              "    <path d=\"M18.56 5.44l.94 2.06.94-2.06 2.06-.94-2.06-.94-.94-2.06-.94 2.06-2.06.94zm-11 1L8.5 8.5l.94-2.06 2.06-.94-2.06-.94L8.5 2.5l-.94 2.06-2.06.94zm10 10l.94 2.06.94-2.06 2.06-.94-2.06-.94-.94-2.06-.94 2.06-2.06.94z\"/><path d=\"M17.41 7.96l-1.37-1.37c-.4-.4-.92-.59-1.43-.59-.52 0-1.04.2-1.43.59L10.3 9.45l-7.72 7.72c-.78.78-.78 2.05 0 2.83L4 21.41c.39.39.9.59 1.41.59.51 0 1.02-.2 1.41-.59l7.78-7.78 2.81-2.81c.8-.78.8-2.07 0-2.86zM5.41 20L4 18.59l7.72-7.72 1.47 1.35L5.41 20z\"/>\n",
              "  </svg>\n",
              "      </button>\n",
              "      \n",
              "  <style>\n",
              "    .colab-df-container {\n",
              "      display:flex;\n",
              "      flex-wrap:wrap;\n",
              "      gap: 12px;\n",
              "    }\n",
              "\n",
              "    .colab-df-convert {\n",
              "      background-color: #E8F0FE;\n",
              "      border: none;\n",
              "      border-radius: 50%;\n",
              "      cursor: pointer;\n",
              "      display: none;\n",
              "      fill: #1967D2;\n",
              "      height: 32px;\n",
              "      padding: 0 0 0 0;\n",
              "      width: 32px;\n",
              "    }\n",
              "\n",
              "    .colab-df-convert:hover {\n",
              "      background-color: #E2EBFA;\n",
              "      box-shadow: 0px 1px 2px rgba(60, 64, 67, 0.3), 0px 1px 3px 1px rgba(60, 64, 67, 0.15);\n",
              "      fill: #174EA6;\n",
              "    }\n",
              "\n",
              "    [theme=dark] .colab-df-convert {\n",
              "      background-color: #3B4455;\n",
              "      fill: #D2E3FC;\n",
              "    }\n",
              "\n",
              "    [theme=dark] .colab-df-convert:hover {\n",
              "      background-color: #434B5C;\n",
              "      box-shadow: 0px 1px 3px 1px rgba(0, 0, 0, 0.15);\n",
              "      filter: drop-shadow(0px 1px 2px rgba(0, 0, 0, 0.3));\n",
              "      fill: #FFFFFF;\n",
              "    }\n",
              "  </style>\n",
              "\n",
              "      <script>\n",
              "        const buttonEl =\n",
              "          document.querySelector('#df-dce30391-2a11-4954-8ee5-952ab89167bc button.colab-df-convert');\n",
              "        buttonEl.style.display =\n",
              "          google.colab.kernel.accessAllowed ? 'block' : 'none';\n",
              "\n",
              "        async function convertToInteractive(key) {\n",
              "          const element = document.querySelector('#df-dce30391-2a11-4954-8ee5-952ab89167bc');\n",
              "          const dataTable =\n",
              "            await google.colab.kernel.invokeFunction('convertToInteractive',\n",
              "                                                     [key], {});\n",
              "          if (!dataTable) return;\n",
              "\n",
              "          const docLinkHtml = 'Like what you see? Visit the ' +\n",
              "            '<a target=\"_blank\" href=https://colab.research.google.com/notebooks/data_table.ipynb>data table notebook</a>'\n",
              "            + ' to learn more about interactive tables.';\n",
              "          element.innerHTML = '';\n",
              "          dataTable['output_type'] = 'display_data';\n",
              "          await google.colab.output.renderOutput(dataTable, element);\n",
              "          const docLink = document.createElement('div');\n",
              "          docLink.innerHTML = docLinkHtml;\n",
              "          element.appendChild(docLink);\n",
              "        }\n",
              "      </script>\n",
              "    </div>\n",
              "  </div>\n",
              "  "
            ]
          },
          "metadata": {},
          "execution_count": 77
        }
      ],
      "source": [
        "df = pd.read_csv('data/processed/train.csv')\n",
        "df.head()"
      ]
    },
    {
      "cell_type": "code",
      "execution_count": 78,
      "metadata": {
        "id": "XmpR7G0MZOgC"
      },
      "outputs": [],
      "source": [
        "class TrainDataset(torch.utils.data.Dataset):\n",
        "    def __init__(self, df, input='concat', output='score'):\n",
        "        self.inputs = (df[input]).values.astype(str)\n",
        "        self.labels = (df[output] * 4).values.astype(int)\n",
        "\n",
        "    def __len__(self):\n",
        "        return len(self.inputs)\n",
        "\n",
        "    def __getitem__(self, item):\n",
        "        inputs = self.inputs[item]\n",
        "        labels = self.labels[item]\n",
        "\n",
        "        return {\n",
        "          **tokenizer(inputs),\n",
        "          'labels': labels\n",
        "        }"
      ]
    },
    {
      "cell_type": "code",
      "execution_count": 79,
      "metadata": {
        "id": "biTBzss7ZQ_J"
      },
      "outputs": [],
      "source": [
        "train_df, val_df, test_df = np.split(df.sample(frac=1, random_state=42), [int(0.8*len(df)), int(0.9*len(df))])"
      ]
    },
    {
      "cell_type": "code",
      "execution_count": 80,
      "metadata": {
        "id": "T2cPOffTZTPH"
      },
      "outputs": [],
      "source": [
        "# train_df.to_csv(CFG.train_path, index=False)\n",
        "# val_df.to_csv(CFG.val_path, index=False)\n",
        "# test_df.to_csv(CFG.test_path, index=False)\n",
        "\n",
        "train_df = pd.read_csv(CFG.train_path)\n",
        "val_df = pd.read_csv(CFG.val_path)\n",
        "test_df = pd.read_csv(CFG.test_path)"
      ]
    },
    {
      "cell_type": "code",
      "execution_count": 81,
      "metadata": {
        "colab": {
          "base_uri": "https://localhost:8080/"
        },
        "id": "Nwz1nKSsZUmG",
        "outputId": "fe75968f-ee9d-4f79-835c-bcad94be8cde"
      },
      "outputs": [
        {
          "output_type": "stream",
          "name": "stderr",
          "text": [
            "Special tokens have been added in the vocabulary, make sure the associated word embeddings are fine-tuned or trained.\n",
            "/usr/local/lib/python3.7/dist-packages/transformers/convert_slow_tokenizer.py:435: UserWarning: The sentencepiece tokenizer that you are converting to a fast tokenizer uses the byte fallback option which is not implemented in the fast tokenizers. In practice this means that the fast version of the tokenizer can produce unknown tokens whereas the sentencepiece version would have converted these unknown tokens into a sequence of byte tokens matching the original piece of text.\n",
            "  \"The sentencepiece tokenizer that you are converting to a fast tokenizer uses the byte fallback option\"\n",
            "Special tokens have been added in the vocabulary, make sure the associated word embeddings are fine-tuned or trained.\n"
          ]
        }
      ],
      "source": [
        "tokenizer = AutoTokenizer.from_pretrained(CFG.model_path)"
      ]
    },
    {
      "cell_type": "code",
      "execution_count": 82,
      "metadata": {
        "id": "ACHevUuUZV02"
      },
      "outputs": [],
      "source": [
        "import numpy as np\n",
        "def compute_metrics(eval_pred):\n",
        "  predictions, labels = eval_pred\n",
        "  predictions = np.argmax(predictions, axis=1)\n",
        "  # print('++++++++++++++++++++++++++++++++++++++++++++++++')\n",
        "  # print(predictions)\n",
        "  # print('++++++++++++++++++++++++++++++++++++++++++++++++')\n",
        "  # print(labels)\n",
        "  metric = load_metric(\"pearsonr\")\n",
        "  computed = metric.compute(predictions=predictions, references=labels)\n",
        "\n",
        "\n",
        "  return computed"
      ]
    },
    {
      "cell_type": "code",
      "execution_count": 83,
      "metadata": {
        "id": "XyPgSEaqZW_P"
      },
      "outputs": [],
      "source": [
        "def train():\n",
        "  train_dataset = TrainDataset(train_df, input='concat')\n",
        "  val_dataset = TrainDataset(val_df, input='concat')\n",
        "\n",
        "  args = TrainingArguments(\n",
        "        output_dir='Jason_models/',\n",
        "        evaluation_strategy=\"epoch\",\n",
        "        save_strategy=\"epoch\",\n",
        "        learning_rate=CFG.learning_rate,\n",
        "        per_device_train_batch_size=CFG.batch_size,\n",
        "        per_device_eval_batch_size=CFG.batch_size,\n",
        "        num_train_epochs=CFG.epochs,\n",
        "        weight_decay=CFG.weight_decay,\n",
        "        metric_for_best_model=\"pearsonr\",\n",
        "        load_best_model_at_end=True,\n",
        "    )\n",
        "  \n",
        "  model = AutoModelForSequenceClassification.from_pretrained(CFG.model_path, num_labels=5)\n",
        "\n",
        "  trainer = Trainer(\n",
        "      model,\n",
        "      args,\n",
        "      train_dataset=train_dataset,\n",
        "      eval_dataset=val_dataset,\n",
        "      tokenizer=tokenizer,\n",
        "      compute_metrics=compute_metrics\n",
        "  )\n",
        "\n",
        "  trainer.train()\n",
        "  trainer.save_model('Jason_models/deberta_large')\n",
        "\n",
        "  return trainer"
      ]
    },
    {
      "cell_type": "code",
      "execution_count": 84,
      "metadata": {
        "id": "HaTXRIW0ZYuI"
      },
      "outputs": [],
      "source": [
        "# model = train()"
      ]
    },
    {
      "cell_type": "markdown",
      "source": [
        "Test Model on Validation"
      ],
      "metadata": {
        "id": "eQ7chKXmsJpF"
      }
    },
    {
      "cell_type": "code",
      "source": [
        "def model_predict(model_path, input, cutoff=None, eval=False):\n",
        "    model = AutoModelForSequenceClassification.from_pretrained(model_path)\n",
        "    input = tokenizer(input, padding='longest', truncation=True, return_tensors='pt')['input_ids']\n",
        "    \n",
        "    if cutoff is None:\n",
        "        cutoff = len(input)\n",
        "\n",
        "    y_pred = model(input[:cutoff])[0].detach().numpy()\n",
        "\n",
        "    if eval:\n",
        "      y_true = val_df['score'][:cutoff]\n",
        "      print(compute_metrics((y_pred, y_true[:cutoff])))\n",
        "\n",
        "    scores = np.argmax(y_pred, axis=1) / 4\n",
        "\n",
        "    return scores"
      ],
      "metadata": {
        "id": "ItjQ3wZV_acA"
      },
      "execution_count": 100,
      "outputs": []
    },
    {
      "cell_type": "code",
      "source": [
        "y_pred = model_predict(model_path='Jason_models/deberta_large', input=val_df['concat'].tolist(), cutoff=50, eval=True)"
      ],
      "metadata": {
        "id": "_iUd_TfWrs-N",
        "colab": {
          "base_uri": "https://localhost:8080/"
        },
        "outputId": "1bf707b7-e319-4c50-9050-60a8f144cd03"
      },
      "execution_count": 93,
      "outputs": [
        {
          "output_type": "stream",
          "name": "stdout",
          "text": [
            "{'pearsonr': 0.8048640625281333}\n"
          ]
        }
      ]
    },
    {
      "cell_type": "code",
      "source": [
        "torch.cuda.empty_cache()\n",
        "torch.cuda.memory_summary(device=None, abbreviated=False)"
      ],
      "metadata": {
        "id": "j3sqJTkO-u_x"
      },
      "execution_count": null,
      "outputs": []
    },
    {
      "cell_type": "markdown",
      "source": [
        "Generating results on test file"
      ],
      "metadata": {
        "id": "twqeVvfb_TW9"
      }
    },
    {
      "cell_type": "code",
      "source": [
        "test_df = pd.read_csv(CFG.real_test_path)"
      ],
      "metadata": {
        "id": "thoYpuSGDMKk"
      },
      "execution_count": null,
      "outputs": []
    },
    {
      "cell_type": "code",
      "source": [
        "test_pred = model_predict(model_path='Jason_models/deberta_large', input=test_df['concat'].tolist())"
      ],
      "metadata": {
        "id": "cSzBcckh_XQG"
      },
      "execution_count": 101,
      "outputs": []
    },
    {
      "cell_type": "code",
      "source": [
        "submit_df = pd.DataFrame(np.c_[test_df['id'], test_pred], columns=['Id',  'score'])"
      ],
      "metadata": {
        "id": "y0isY7-4D2ku"
      },
      "execution_count": 104,
      "outputs": []
    },
    {
      "cell_type": "code",
      "source": [
        "submit_df.to_csv('submission.csv')"
      ],
      "metadata": {
        "id": "fJKfR8g0FVWy"
      },
      "execution_count": 106,
      "outputs": []
    }
  ],
  "metadata": {
    "accelerator": "GPU",
    "colab": {
      "collapsed_sections": [],
      "machine_shape": "hm",
      "name": "Jason_Deberta.ipynb",
      "provenance": [],
      "toc_visible": true
    },
    "kernelspec": {
      "display_name": "Python 3",
      "name": "python3"
    },
    "language_info": {
      "name": "python"
    }
  },
  "nbformat": 4,
  "nbformat_minor": 0
}